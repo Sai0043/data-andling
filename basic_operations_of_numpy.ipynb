{
  "nbformat": 4,
  "nbformat_minor": 0,
  "metadata": {
    "colab": {
      "provenance": [],
      "authorship_tag": "ABX9TyPh63Y8pTeP3k3qzoc5akzF",
      "include_colab_link": true
    },
    "kernelspec": {
      "name": "python3",
      "display_name": "Python 3"
    },
    "language_info": {
      "name": "python"
    }
  },
  "cells": [
    {
      "cell_type": "markdown",
      "metadata": {
        "id": "view-in-github",
        "colab_type": "text"
      },
      "source": [
        "<a href=\"https://colab.research.google.com/github/Sai0043/data-andling/blob/main/basic_operations_of_numpy.ipynb\" target=\"_parent\"><img src=\"https://colab.research.google.com/assets/colab-badge.svg\" alt=\"Open In Colab\"/></a>"
      ]
    },
    {
      "cell_type": "code",
      "execution_count": 1,
      "metadata": {
        "colab": {
          "base_uri": "https://localhost:8080/"
        },
        "id": "LPgoI0yH8Ycf",
        "outputId": "36340b1a-9e58-4445-820e-d548625d7e2c"
      },
      "outputs": [
        {
          "output_type": "stream",
          "name": "stdout",
          "text": [
            "1D NumPy Array\n",
            "Shape: (5,)\n",
            "Size: 5\n",
            "Dimension: 1\n",
            "Length: 5\n"
          ]
        }
      ],
      "source": [
        "import numpy as np\n",
        "arr_1d = np.array([1, 2, 3, 4, 5])\n",
        "print(\"1D NumPy Array\")\n",
        "print(\"Shape:\", arr_1d.shape)\n",
        "print(\"Size:\", arr_1d.size)\n",
        "print(\"Dimension:\", arr_1d.ndim)\n",
        "print(\"Length:\", len(arr_1d))"
      ]
    },
    {
      "cell_type": "code",
      "source": [
        "arr_2d = np.array([[1, 2, 3], [4, 5, 6], [7, 8, 9]])\n",
        "print(\"\\n2D NumPy Array\")\n",
        "print(\"Shape:\", arr_2d.shape)\n",
        "print(\"Size:\", arr_2d.size)\n",
        "print(\"Dimension:\", arr_2d.ndim)\n",
        "print(\"Length:\", len(arr_2d))"
      ],
      "metadata": {
        "colab": {
          "base_uri": "https://localhost:8080/"
        },
        "id": "Y_fRBKT4-CAx",
        "outputId": "e5ad41e8-eaeb-451a-ac2d-73a7997c15b7"
      },
      "execution_count": 2,
      "outputs": [
        {
          "output_type": "stream",
          "name": "stdout",
          "text": [
            "\n",
            "2D NumPy Array\n",
            "Shape: (3, 3)\n",
            "Size: 9\n",
            "Dimension: 2\n",
            "Length: 3\n"
          ]
        }
      ]
    },
    {
      "cell_type": "code",
      "source": [
        "arr_3d = np.array([[[1, 2, 3], [4, 5, 6]], [[7, 8, 9], [10, 11, 12]]])\n",
        "print(\"\\n3D NumPy Array\")\n",
        "print(\"Shape:\", arr_3d.shape)\n",
        "print(\"Size:\", arr_3d.size)\n",
        "print(\"Dimension:\", arr_3d.ndim)\n",
        "print(\"Length:\", len(arr_3d))\n"
      ],
      "metadata": {
        "colab": {
          "base_uri": "https://localhost:8080/"
        },
        "id": "1_PQ73Dr-H2I",
        "outputId": "2fb8e74c-eb0a-4a28-8f43-2ce10afa9047"
      },
      "execution_count": 3,
      "outputs": [
        {
          "output_type": "stream",
          "name": "stdout",
          "text": [
            "\n",
            "3D NumPy Array\n",
            "Shape: (2, 2, 3)\n",
            "Size: 12\n",
            "Dimension: 3\n",
            "Length: 2\n"
          ]
        }
      ]
    },
    {
      "cell_type": "code",
      "source": [],
      "metadata": {
        "id": "uHQy89mu-L4I"
      },
      "execution_count": null,
      "outputs": []
    }
  ]
}